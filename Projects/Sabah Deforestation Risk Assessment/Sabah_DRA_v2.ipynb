
# 1) Install/imports
try:
    import ee, geemap  # noqa
except Exception:
    import sys, subprocess
    subprocess.check_call([sys.executable, "-m", "pip", "install", "earthengine-api", "geemap", "pandas", "matplotlib"])

import ee, math, pandas as pd
import geemap.foliumap as geemap
import matplotlib.pyplot as plt

try:
    ee.Initialize()
except Exception:
    ee.Authenticate()
    ee.Initialize()
print("EE ready.")



# 2) ROI & years
gaul1 = ee.FeatureCollection("FAO/GAUL/2015/level1")
sabah_fc = gaul1.filter(ee.Filter.And(
    ee.Filter.eq("ADM0_NAME", "Malaysia"),
    ee.Filter.eq("ADM1_NAME", "Sabah")
))
roi = sabah_fc.geometry()
roi_vis = roi.simplify(60)

year_list = [1990, 2005, 2020]

m = geemap.Map(center=[5.2, 116.6], zoom=6)
m.addLayer(roi_vis, {"color":"#2233ff"}, "Sabah ROI", True, 0.7)
m



# 3) Collections & masks
l4 = ee.ImageCollection("LANDSAT/LT04/C02/T1_L2")
l5 = ee.ImageCollection("LANDSAT/LT05/C02/T1_L2")
l8 = ee.ImageCollection("LANDSAT/LC08/C02/T1_L2")
l9 = ee.ImageCollection("LANDSAT/LC09/C02/T1_L2")

def filter_col(col, roi, date_range):
    start, end = date_range
    return col.filterDate(start, end).filterBounds(roi)

def cloud_mask_tm(image):
    qa = image.select("QA_PIXEL")
    dilated = 1 << 1
    cloud = 1 << 3
    shadow = 1 << 4
    mask = (qa.bitwiseAnd(dilated).eq(0)
            .And(qa.bitwiseAnd(cloud).eq(0))
            .And(qa.bitwiseAnd(shadow).eq(0)))
    return (image.select(["SR_B1","SR_B2","SR_B3","SR_B4","SR_B5","SR_B7"],
                         ["B2","B3","B4","B5","B6","B7"])
                  .updateMask(mask)
                  .multiply(0.0000275).add(-0.2))

def cloud_mask_oli(image):
    qa = image.select("QA_PIXEL")
    dilated = 1 << 1
    cirrus = 1 << 2
    cloud  = 1 << 3
    shadow = 1 << 4
    mask = (qa.bitwiseAnd(dilated).eq(0)
            .And(qa.bitwiseAnd(cirrus).eq(0))
            .And(qa.bitwiseAnd(cloud).eq(0))
            .And(qa.bitwiseAnd(shadow).eq(0)))
    return (image.select(["SR_B2","SR_B3","SR_B4","SR_B5","SR_B6","SR_B7"],
                         ["B2","B3","B4","B5","B6","B7"])
                  .updateMask(mask)
                  .multiply(0.0000275).add(-0.2))

def landsat457(roi, date_range):
    col = filter_col(l4, roi, date_range).merge(filter_col(l5, roi, date_range))
    return col.map(cloud_mask_tm).median().clip(roi)

def landsat89(roi, date_range):
    col = filter_col(l8, roi, date_range).merge(filter_col(l9, roi, date_range))
    return col.map(cloud_mask_oli).median().clip(roi)



# 4) Composites, VI, forest
def make_year_image(year, roi):
    start = ee.Date.fromYMD(year - 1, 1, 1)
    end   = ee.Date.fromYMD(year + 1, 12, 31)
    date_range = [start, end]
    img = landsat457(roi, date_range) if year < 2014 else landsat89(roi, date_range)
    vi = img.expression("(b('B5') - b('B7')) / (b('B5') + b('B7'))").rename("VI")
    forest = vi.gt(0.7).selfMask().rename("forest")
    return (img, vi, forest)

year_products = {yr: dict(zip(["image","vi","forest"], make_year_image(yr, roi))) for yr in year_list}

rgb_vis = {"min": [0.1, 0.05, 0], "max": [0.4, 0.3, 0.15], "bands": ["B5","B6","B2"]}
vi_vis  = {"min": -1, "max": 1, "palette": ["blue","white","green"]}

m1 = geemap.Map(center=[5.2, 116.6], zoom=6)
m1.addLayer(roi_vis, {"color":"black"}, "Sabah ROI", True, 0.7)
for yr in year_list:
    m1.addLayer(year_products[yr]["image"], rgb_vis, f"SR_{yr}", False)
    m1.addLayer(year_products[yr]["vi"], vi_vis, f"VI_{yr}", False)
    m1.addLayer(year_products[yr]["forest"], {"palette":["green"]}, f"Forest_{yr}", False)
m1



# 5) Deforestation + areas at 120 m scale
forest_1990 = year_products[1990]["forest"]
forest_2005 = year_products[2005]["forest"]
forest_2020 = year_products[2020]["forest"]

def1990_2005 = forest_1990.eq(1).And(forest_2005.unmask(0).eq(0)).selfMask()
def2005_2020 = forest_2005.eq(1).And(forest_2020.unmask(0).eq(0)).selfMask()

def area_ha(mask_img, geom, scale=120):
    pix_area_ha = ee.Image.pixelArea().divide(10000).updateMask(mask_img)
    stats = pix_area_ha.reduceRegion(reducer=ee.Reducer.sum(), geometry=geom, scale=scale, bestEffort=True, maxPixels=1e13)
    return ee.Number(stats.get('area')) if stats.get('area') else ee.Number(0)

areas = {yr: area_ha(year_products[yr]["forest"], roi, 120) for yr in year_list}
def1990_2005_ha = area_ha(def1990_2005, roi, 120)
def2005_2020_ha = area_ha(def2005_2020, roi, 120)

areas_client = {yr: areas[yr].getInfo() for yr in year_list}
def1990_2005_ha_client = def1990_2005_ha.getInfo()
def2005_2020_ha_client = def2005_2020_ha.getInfo()

A1 = areas_client[1990]
A2 = areas_client[2020]
q = ((A2 / A1) ** (1/30)) - 1 if A1 and A2 else float('nan')

m2 = geemap.Map(center=[5.2, 116.6], zoom=6)
m2.addLayer(roi_vis, {"color":"black"}, "Sabah ROI", True, 0.7)
m2.addLayer(def1990_2005, {"palette":["red"]}, "Deforestation 1990-2005", True)
m2.addLayer(def2005_2020, {"palette":["orange"]}, "Deforestation 2005-2020", True)
m2.addLayer(forest_2020, {"palette":["green"]}, "Forest 2020", False)
m2



# 6) Risk map (meter-based focal; no reproject on display)
forest_raster = (ee.Image(0)
    .where(def1990_2005.eq(1), 1)
    .where(def2005_2020.eq(1), 2)
    .where(forest_2020.eq(1), 3)
    .selfMask()
    .clip(roi))

def_rate = abs(q) if isinstance(q, (int, float)) and not math.isnan(q) else 0.0
k = ee.Kernel.square(120, "meters", True)
risk = (forest_raster.convolve(k)
        .updateMask(forest_2020)
        .abs()
        .multiply(-1)
        .rename("risk"))

minmax = risk.reduceRegion(geometry=roi, scale=120, reducer=ee.Reducer.percentile([0.1, 99.9]), bestEffort=True, maxPixels=1e13)
risk_min = ee.Number(minmax.get("risk_p0"))
risk_max = ee.Number(minmax.get("risk_p100"))

risk_eq = (risk.clamp(risk_min, risk_max).unitScale(risk_min, risk_max).multiply(30).toByte())

palette = ["green","yellow","red","purple"]
m3 = geemap.Map(center=[5.2, 116.6], zoom=6)
m3.addLayer(roi_vis, {"color":"black"}, "Sabah ROI", True, 0.7)
m3.addLayer(risk_eq, {"min": 0, "max": 30, "palette": palette}, "Risk Equal Interval", True)
m3.add_colorbar(vis_params={"min":0,"max":30,"palette":palette}, label="Risk Class (0–30)", layer_name="Risk Equal Interval")
m3



# 7) Tables & charts
import pandas as pd, matplotlib.pyplot as plt, math
df_areas = pd.DataFrame({"Year": [1990,2005,2020], "Forest area (ha)": [areas_client[y] for y in [1990,2005,2020]]}).sort_values("Year")
df_defor = pd.DataFrame({"Period": ["1990–2005","2005–2020"], "Deforestation area (ha)": [def1990_2005_ha_client, def2005_2020_ha_client]})
display(df_areas); display(df_defor)
print("FAO deforestation rate (annual, 1990–2020): {:.4%}".format(q) if not math.isnan(q) else "FAO deforestation rate: N/A")

plt.figure(); plt.bar(df_areas["Year"].astype(str), df_areas["Forest area (ha)"]); plt.title("Forest Area in Sabah"); plt.xlabel("Year"); plt.ylabel("Area (ha)"); plt.tight_layout(); plt.show()

grid = ee.Image.pixelLonLat().reproject("EPSG:4326", None, 3000)
sample = (risk_eq.addBands(grid).sample(region=roi, scale=3000, numPixels=5000, geometries=False, seed=42))
hist = sample.aggregate_histogram("risk").getInfo()
bins = list(map(int, hist.keys())) if hist else []
counts = list(hist.values()) if hist else []

plt.figure(); plt.bar([str(b) for b in bins], counts); plt.title("Risk Map – Histogram (sampled)"); plt.xlabel("Risk class (0–30)"); plt.ylabel("Count"); plt.xticks(rotation=90); plt.tight_layout(); plt.show()
