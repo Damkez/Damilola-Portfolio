{
 "cells": [
  {
   "cell_type": "code",
   "execution_count": 1,
   "id": "87a99540",
   "metadata": {},
   "outputs": [
    {
     "name": "stdout",
     "output_type": "stream",
     "text": [
      "Note: you may need to restart the kernel to use updated packages.\n",
      "Earth Engine initialized.\n"
     ]
    }
   ],
   "source": [
    "# ================================================================\n",
    "# Deforestation Risk Map for Palangkara-West Kalimantan\n",
    "# Landsat 4,5,8,9 \n",
    "# ================================================================\n",
    "\n",
    "# (If needed)\n",
    "%pip install -q earthengine-api geemap pandas matplotlib ipywidgets\n",
    "\n",
    "import ee, geemap, pandas as pd, numpy as np\n",
    "import matplotlib.pyplot as plt\n",
    "import geemap.foliumap as geemap\n",
    "import ipywidgets as widgets\n",
    "from ipywidgets import VBox, Layout\n",
    "from ipywidgets import HBox, Layout\n",
    "from IPython.display import display  \n",
    "\n",
    "\n",
    "# --------------------------------------------\n",
    "# Initialize Earth Engine\n",
    "# --------------------------------------------\n",
    "# ee.Authenticate()  # uncomment if you didn't authenticate yet\n",
    "try:\n",
    "    ee.Initialize()\n",
    "except Exception as e:\n",
    "    ee.Authenticate()\n",
    "    ee.Initialize()\n",
    "print(\"Earth Engine initialized.\")"
   ]
  },
  {
   "cell_type": "code",
   "execution_count": 2,
   "id": "bbdee7da",
   "metadata": {},
   "outputs": [
    {
     "data": {
      "text/html": [
       "\n",
       "            <style>\n",
       "                .geemap-dark {\n",
       "                    --jp-widgets-color: white;\n",
       "                    --jp-widgets-label-color: white;\n",
       "                    --jp-ui-font-color1: white;\n",
       "                    --jp-layout-color2: #454545;\n",
       "                    background-color: #383838;\n",
       "                }\n",
       "\n",
       "                .geemap-dark .jupyter-button {\n",
       "                    --jp-layout-color3: #383838;\n",
       "                }\n",
       "\n",
       "                .geemap-colab {\n",
       "                    background-color: var(--colab-primary-surface-color, white);\n",
       "                }\n",
       "\n",
       "                .geemap-colab .jupyter-button {\n",
       "                    --jp-layout-color3: var(--colab-primary-surface-color, white);\n",
       "                }\n",
       "            </style>\n",
       "            "
      ],
      "text/plain": [
       "<IPython.core.display.HTML object>"
      ]
     },
     "metadata": {},
     "output_type": "display_data"
    }
   ],
   "source": [
    "#  ROI: Palangkara-West Kalimantan + year list ─────────────────────────────────────────\n",
    "roi = ee.Geometry.Polygon([[[113.69001648196563, -1.8770593752211775],\n",
    "          [113.69001648196563, -2.401289120996008],\n",
    "          [114.19676086673125, -2.401289120996008],\n",
    "          [114.19676086673125, -1.8770593752211775]]])\n",
    "\n",
    "year_list = [1990, 2005, 2020]\n",
    "\n",
    "# m = geemap.Map(center=[113.69001648196563, -2.401289120996008], zoom=6)\n",
    "# m.addLayer(roi, {\"color\":\"#2233ff\"}, \"Palangkara-West Kalimantan\", True, 0.7)\n",
    "# m\n"
   ]
  },
  {
   "cell_type": "code",
   "execution_count": 3,
   "id": "41a1527b",
   "metadata": {},
   "outputs": [
    {
     "data": {
      "text/html": [
       "\n",
       "            <style>\n",
       "                .geemap-dark {\n",
       "                    --jp-widgets-color: white;\n",
       "                    --jp-widgets-label-color: white;\n",
       "                    --jp-ui-font-color1: white;\n",
       "                    --jp-layout-color2: #454545;\n",
       "                    background-color: #383838;\n",
       "                }\n",
       "\n",
       "                .geemap-dark .jupyter-button {\n",
       "                    --jp-layout-color3: #383838;\n",
       "                }\n",
       "\n",
       "                .geemap-colab {\n",
       "                    background-color: var(--colab-primary-surface-color, white);\n",
       "                }\n",
       "\n",
       "                .geemap-colab .jupyter-button {\n",
       "                    --jp-layout-color3: var(--colab-primary-surface-color, white);\n",
       "                }\n",
       "            </style>\n",
       "            "
      ],
      "text/plain": [
       "<IPython.core.display.HTML object>"
      ]
     },
     "metadata": {},
     "output_type": "display_data"
    }
   ],
   "source": [
    "#  Landsat collections & cloud masks (C02/T1_L2) ───────────────────────────\n",
    "l4 = ee.ImageCollection(\"LANDSAT/LT04/C02/T1_L2\")\n",
    "l5 = ee.ImageCollection(\"LANDSAT/LT05/C02/T1_L2\")\n",
    "l8 = ee.ImageCollection(\"LANDSAT/LC08/C02/T1_L2\")\n",
    "l9 = ee.ImageCollection(\"LANDSAT/LC09/C02/T1_L2\")\n",
    "\n",
    "def filter_col(col, roi, date_range):\n",
    "    start, end = date_range\n",
    "    return col.filterDate(start, end).filterBounds(roi)\n",
    "\n",
    "def cloud_mask_tm(image):\n",
    "    qa = image.select(\"QA_PIXEL\")\n",
    "    dilated = 1 << 1\n",
    "    cloud = 1 << 3\n",
    "    shadow = 1 << 4\n",
    "    mask = (qa.bitwiseAnd(dilated).eq(0)\n",
    "            .And(qa.bitwiseAnd(cloud).eq(0))\n",
    "            .And(qa.bitwiseAnd(shadow).eq(0)))\n",
    "    return (image.select([\"SR_B1\",\"SR_B2\",\"SR_B3\",\"SR_B4\",\"SR_B5\",\"SR_B7\"],\n",
    "                         [\"B2\",\"B3\",\"B4\",\"B5\",\"B6\",\"B7\"])\n",
    "                  .updateMask(mask)\n",
    "                  .multiply(0.0000275)\n",
    "                  .add(-0.2))\n",
    "\n",
    "def cloud_mask_oli(image):\n",
    "    qa = image.select(\"QA_PIXEL\")\n",
    "    dilated = 1 << 1\n",
    "    cirrus = 1 << 2\n",
    "    cloud  = 1 << 3\n",
    "    shadow = 1 << 4\n",
    "    mask = (qa.bitwiseAnd(dilated).eq(0)\n",
    "            .And(qa.bitwiseAnd(cirrus).eq(0))\n",
    "            .And(qa.bitwiseAnd(cloud).eq(0))\n",
    "            .And(qa.bitwiseAnd(shadow).eq(0)))\n",
    "    return (image.select([\"SR_B2\",\"SR_B3\",\"SR_B4\",\"SR_B5\",\"SR_B6\",\"SR_B7\"],\n",
    "                         [\"B2\",\"B3\",\"B4\",\"B5\",\"B6\",\"B7\"])\n",
    "                  .updateMask(mask)\n",
    "                  .multiply(0.0000275)\n",
    "                  .add(-0.2))\n",
    "\n",
    "def landsat457(roi, date_range):\n",
    "    col = filter_col(l4, roi, date_range).merge(filter_col(l5, roi, date_range))\n",
    "    return col.map(cloud_mask_tm).median().clip(roi)\n",
    "\n",
    "def landsat89(roi, date_range):\n",
    "    col = filter_col(l8, roi, date_range).merge(filter_col(l9, roi, date_range))\n",
    "    return col.map(cloud_mask_oli).median().clip(roi)"
   ]
  },
  {
   "cell_type": "code",
   "execution_count": 4,
   "id": "540f85fc",
   "metadata": {},
   "outputs": [
    {
     "data": {
      "text/html": [
       "\n",
       "            <style>\n",
       "                .geemap-dark {\n",
       "                    --jp-widgets-color: white;\n",
       "                    --jp-widgets-label-color: white;\n",
       "                    --jp-ui-font-color1: white;\n",
       "                    --jp-layout-color2: #454545;\n",
       "                    background-color: #383838;\n",
       "                }\n",
       "\n",
       "                .geemap-dark .jupyter-button {\n",
       "                    --jp-layout-color3: #383838;\n",
       "                }\n",
       "\n",
       "                .geemap-colab {\n",
       "                    background-color: var(--colab-primary-surface-color, white);\n",
       "                }\n",
       "\n",
       "                .geemap-colab .jupyter-button {\n",
       "                    --jp-layout-color3: var(--colab-primary-surface-color, white);\n",
       "                }\n",
       "            </style>\n",
       "            "
      ],
      "text/plain": [
       "<IPython.core.display.HTML object>"
      ]
     },
     "metadata": {},
     "output_type": "display_data"
    }
   ],
   "source": [
    "# Build composites, VI, and forest masks ───────────────────────────────────\n",
    "def make_year_image(year, roi):\n",
    "    start = ee.Date.fromYMD(year - 1, 1, 1)\n",
    "    end   = ee.Date.fromYMD(year + 1, 12, 31)\n",
    "    date_range = [start, end]\n",
    "    if year < 2014:\n",
    "        img = landsat457(roi, date_range)\n",
    "    else:\n",
    "        img = landsat89(roi, date_range)\n",
    "    band_map = {\"NIR\": img.select(\"B5\"), \"SWIR\": img.select(\"B7\")}\n",
    "    vi = img.expression(\"(NIR - SWIR) / (NIR + SWIR)\", band_map).rename(\"VI\")\n",
    "    forest = vi.gt(0.7).selfMask().rename(\"forest\")\n",
    "    return (img, vi, forest)\n",
    "\n",
    "year_products = {}\n",
    "for yr in year_list:\n",
    "    img, vi, forest = make_year_image(yr, roi)\n",
    "    year_products[yr] = {\"image\": img, \"vi\": vi, \"forest\": forest}\n",
    "\n",
    "rgb_vis = {\"min\": [0.1, 0.05, 0], \"max\": [0.4, 0.3, 0.15], \"bands\": [\"B5\",\"B6\",\"B2\"]}\n",
    "vi_vis  = {\"min\": -1, \"max\": 1, \"palette\": [\"blue\",\"white\",\"green\"]}"
   ]
  },
  {
   "cell_type": "code",
   "execution_count": 5,
   "id": "dfc62dd3",
   "metadata": {},
   "outputs": [
    {
     "data": {
      "text/html": [
       "\n",
       "            <style>\n",
       "                .geemap-dark {\n",
       "                    --jp-widgets-color: white;\n",
       "                    --jp-widgets-label-color: white;\n",
       "                    --jp-ui-font-color1: white;\n",
       "                    --jp-layout-color2: #454545;\n",
       "                    background-color: #383838;\n",
       "                }\n",
       "\n",
       "                .geemap-dark .jupyter-button {\n",
       "                    --jp-layout-color3: #383838;\n",
       "                }\n",
       "\n",
       "                .geemap-colab {\n",
       "                    background-color: var(--colab-primary-surface-color, white);\n",
       "                }\n",
       "\n",
       "                .geemap-colab .jupyter-button {\n",
       "                    --jp-layout-color3: var(--colab-primary-surface-color, white);\n",
       "                }\n",
       "            </style>\n",
       "            "
      ],
      "text/plain": [
       "<IPython.core.display.HTML object>"
      ]
     },
     "metadata": {},
     "output_type": "display_data"
    }
   ],
   "source": [
    "#  Interactive map with layers ─────────────────────────────────────────────\n",
    "m = geemap.Map(center=[113.69001648196563, -2.401289120996008], zoom=6)\n",
    "m.addLayer(roi, {\"color\": \"black\"}, \"Palangkara-West Kalimantan\", True, 0.7)\n",
    "\n",
    "for yr in year_list:\n",
    "    m.addLayer(year_products[yr][\"image\"], rgb_vis, f\"SR_{yr}\", False)\n",
    "    m.addLayer(year_products[yr][\"vi\"], vi_vis, f\"VI_{yr}\", False)\n",
    "    m.addLayer(year_products[yr][\"forest\"], {\"palette\": [\"green\"]}, f\"Forest_{yr}\", False)\n",
    "\n",
    "# m.add_colorbar(vis_params=vi_vis, label=\"VI\", layer_name=f\"VI_{year_list[-1]}\")\n",
    "# m"
   ]
  },
  {
   "cell_type": "code",
   "execution_count": 6,
   "id": "6ac3f1c3",
   "metadata": {},
   "outputs": [
    {
     "data": {
      "text/html": [
       "\n",
       "            <style>\n",
       "                .geemap-dark {\n",
       "                    --jp-widgets-color: white;\n",
       "                    --jp-widgets-label-color: white;\n",
       "                    --jp-ui-font-color1: white;\n",
       "                    --jp-layout-color2: #454545;\n",
       "                    background-color: #383838;\n",
       "                }\n",
       "\n",
       "                .geemap-dark .jupyter-button {\n",
       "                    --jp-layout-color3: #383838;\n",
       "                }\n",
       "\n",
       "                .geemap-colab {\n",
       "                    background-color: var(--colab-primary-surface-color, white);\n",
       "                }\n",
       "\n",
       "                .geemap-colab .jupyter-button {\n",
       "                    --jp-layout-color3: var(--colab-primary-surface-color, white);\n",
       "                }\n",
       "            </style>\n",
       "            "
      ],
      "text/plain": [
       "<IPython.core.display.HTML object>"
      ]
     },
     "metadata": {},
     "output_type": "display_data"
    }
   ],
   "source": [
    "#  Deforestation layers and forest areas ────────────────────────────────────\n",
    "forest_1990 = year_products[1990][\"forest\"]\n",
    "forest_2005 = year_products[2005][\"forest\"]\n",
    "forest_2020 = year_products[2020][\"forest\"]\n",
    "\n",
    "def_area_1990_2005 = forest_1990.eq(1).And(forest_2005.unmask(0).eq(0)).selfMask()\n",
    "def_area_2005_2020 = forest_2005.eq(1).And(forest_2020.unmask(0).eq(0)).selfMask()\n",
    "\n",
    "# m2 = geemap.Map(center=[113.69001648196563, -2.401289120996008], zoom=6)\n",
    "# m2.addLayer(roi, {\"color\": \"black\"}, \"Palangkara-West Kalimantan\", True, 0.7)\n",
    "# m2.addLayer(def_area_1990_2005, {\"palette\":[\"red\"]}, \"Deforestation 1990-2005\", True)\n",
    "# m2.addLayer(def_area_2005_2020, {\"palette\":[\"orange\"]}, \"Deforestation 2005-2020\", True)\n",
    "# m2.addLayer(forest_2020, {\"palette\":[\"green\"]}, \"Forest 2020\", False)\n",
    "# m2"
   ]
  },
  {
   "cell_type": "code",
   "execution_count": 7,
   "id": "ba8dfc8e",
   "metadata": {},
   "outputs": [
    {
     "data": {
      "text/html": [
       "\n",
       "            <style>\n",
       "                .geemap-dark {\n",
       "                    --jp-widgets-color: white;\n",
       "                    --jp-widgets-label-color: white;\n",
       "                    --jp-ui-font-color1: white;\n",
       "                    --jp-layout-color2: #454545;\n",
       "                    background-color: #383838;\n",
       "                }\n",
       "\n",
       "                .geemap-dark .jupyter-button {\n",
       "                    --jp-layout-color3: #383838;\n",
       "                }\n",
       "\n",
       "                .geemap-colab {\n",
       "                    background-color: var(--colab-primary-surface-color, white);\n",
       "                }\n",
       "\n",
       "                .geemap-colab .jupyter-button {\n",
       "                    --jp-layout-color3: var(--colab-primary-surface-color, white);\n",
       "                }\n",
       "            </style>\n",
       "            "
      ],
      "text/plain": [
       "<IPython.core.display.HTML object>"
      ]
     },
     "metadata": {},
     "output_type": "display_data"
    },
    {
     "data": {
      "text/plain": [
       "{1990: 257533.24481078354, 2005: 196874.40339864252, 2020: 208405.82205061466}"
      ]
     },
     "metadata": {},
     "output_type": "display_data"
    },
    {
     "data": {
      "text/plain": [
       "73802.80536863973"
      ]
     },
     "metadata": {},
     "output_type": "display_data"
    },
    {
     "data": {
      "text/plain": [
       "30859.746029176655"
      ]
     },
     "metadata": {},
     "output_type": "display_data"
    }
   ],
   "source": [
    "# Compute forest area (ha) for 1990 and 2020 + deforestation areas\n",
    "def area_ha(mask_img, geom):\n",
    "    pix_area_ha = ee.Image.pixelArea().divide(10000)\n",
    "    stats = pix_area_ha.updateMask(mask_img).reduceRegion(\n",
    "        reducer=ee.Reducer.sum(),\n",
    "        geometry=geom,\n",
    "        scale=30,\n",
    "        bestEffort=True\n",
    "    )\n",
    "    return ee.Number(stats.get('area')) if stats.get('area') else ee.Number(0)\n",
    "\n",
    "areas = {}\n",
    "for yr in year_list:\n",
    "    a = area_ha(year_products[yr][\"forest\"], roi)\n",
    "    areas[yr] = a\n",
    "\n",
    "def1990_2005_ha = area_ha(def_area_1990_2005, roi)\n",
    "def2005_2020_ha = area_ha(def_area_2005_2020, roi)\n",
    "\n",
    "areas_client = {yr: areas[yr].getInfo() for yr in year_list}\n",
    "def1990_2005_ha_client = def1990_2005_ha.getInfo()\n",
    "def2005_2020_ha_client = def2005_2020_ha.getInfo()\n",
    "\n",
    "display(areas_client, def1990_2005_ha_client, def2005_2020_ha_client)"
   ]
  },
  {
   "cell_type": "code",
   "execution_count": 8,
   "id": "959bfc72",
   "metadata": {},
   "outputs": [
    {
     "data": {
      "text/html": [
       "\n",
       "            <style>\n",
       "                .geemap-dark {\n",
       "                    --jp-widgets-color: white;\n",
       "                    --jp-widgets-label-color: white;\n",
       "                    --jp-ui-font-color1: white;\n",
       "                    --jp-layout-color2: #454545;\n",
       "                    background-color: #383838;\n",
       "                }\n",
       "\n",
       "                .geemap-dark .jupyter-button {\n",
       "                    --jp-layout-color3: #383838;\n",
       "                }\n",
       "\n",
       "                .geemap-colab {\n",
       "                    background-color: var(--colab-primary-surface-color, white);\n",
       "                }\n",
       "\n",
       "                .geemap-colab .jupyter-button {\n",
       "                    --jp-layout-color3: var(--colab-primary-surface-color, white);\n",
       "                }\n",
       "            </style>\n",
       "            "
      ],
      "text/plain": [
       "<IPython.core.display.HTML object>"
      ]
     },
     "metadata": {},
     "output_type": "display_data"
    },
    {
     "data": {
      "text/plain": [
       "-0.007030554912139775"
      ]
     },
     "execution_count": 8,
     "metadata": {},
     "output_type": "execute_result"
    }
   ],
   "source": [
    "# FAO deforestation rate q = ((A2/A1)^(1/(t2 - t1))) - 1\n",
    "import math\n",
    "A1 = areas_client[1990]\n",
    "A2 = areas_client[2020]\n",
    "T1, T2 = 1990, 2020\n",
    "q = ( (A2 / A1) ** (1 / (T2 - T1)) ) - 1 if A1 and A2 else float('nan')\n",
    "q\n"
   ]
  },
  {
   "cell_type": "code",
   "execution_count": 9,
   "id": "b433a81c",
   "metadata": {},
   "outputs": [
    {
     "data": {
      "text/html": [
       "\n",
       "            <style>\n",
       "                .geemap-dark {\n",
       "                    --jp-widgets-color: white;\n",
       "                    --jp-widgets-label-color: white;\n",
       "                    --jp-ui-font-color1: white;\n",
       "                    --jp-layout-color2: #454545;\n",
       "                    background-color: #383838;\n",
       "                }\n",
       "\n",
       "                .geemap-dark .jupyter-button {\n",
       "                    --jp-layout-color3: #383838;\n",
       "                }\n",
       "\n",
       "                .geemap-colab {\n",
       "                    background-color: var(--colab-primary-surface-color, white);\n",
       "                }\n",
       "\n",
       "                .geemap-colab .jupyter-button {\n",
       "                    --jp-layout-color3: var(--colab-primary-surface-color, white);\n",
       "                }\n",
       "            </style>\n",
       "            "
      ],
      "text/plain": [
       "<IPython.core.display.HTML object>"
      ]
     },
     "metadata": {},
     "output_type": "display_data"
    }
   ],
   "source": [
    "#  Risk map (meter-based focal; no reproject on display)\n",
    "forest_raster = (ee.Image(0)\n",
    "                 .where(def_area_1990_2005.eq(1), 1)\n",
    "                 .where(def_area_2005_2020.eq(1), 2)\n",
    "                 .where(forest_2020.eq(1), 3)\n",
    "                 .selfMask()\n",
    "                 .clip(roi))\n",
    "\n",
    "def_rate = abs(q) if isinstance(q, (int, float)) and not math.isnan(q) else 0.0\n",
    "array = ee.List.repeat(ee.List.repeat(def_rate, 9), 9)\n",
    "kernel = ee.Kernel.fixed(9, 9, array)\n",
    "\n",
    "risk = (forest_raster.convolve(kernel)\n",
    "        .updateMask(forest_2020)\n",
    "        .reproject(\"EPSG:4326\", None, 30)\n",
    "        .abs()\n",
    "        .multiply(-1)\n",
    "        .rename(\"risk\"))\n",
    "\n",
    "minmax = risk.reduceRegion(\n",
    "    geometry=roi,\n",
    "    scale=30,\n",
    "    reducer=ee.Reducer.percentile([0.1, 99.9]),\n",
    "    bestEffort=True\n",
    ")\n",
    "risk_min = ee.Number(minmax.get(\"risk_p0\"))\n",
    "risk_max = ee.Number(minmax.get(\"risk_p100\"))\n",
    "\n",
    "risk_eq = (risk.clamp(risk_min, risk_max)\n",
    "               .unitScale(risk_min, risk_max)\n",
    "               .multiply(30)\n",
    "               .toByte())\n",
    "\n",
    "palette = [\"green\",\"yellow\",\"red\",\"purple\"]\n",
    "# m3 = geemap.Map(center=[113.69001648196563, -2.401289120996008], zoom=6)\n",
    "# m3.addLayer(roi, {\"color\":\"black\"}, \"Palangkara-West Kalimantan ROI\", True, 0.7)\n",
    "# m3.addLayer(risk_eq, {\"min\": 0, \"max\": 30, \"palette\": palette}, \"Risk Equal Interval\", True)\n",
    "# m3.add_colorbar(vis_params={\"min\":0,\"max\":30,\"palette\":palette}, label=\"Risk Class (0–30)\", layer_name=\"Risk Equal Interval\")\n",
    "# m3"
   ]
  },
  {
   "cell_type": "code",
   "execution_count": 10,
   "id": "fe8604fd",
   "metadata": {},
   "outputs": [
    {
     "data": {
      "text/html": [
       "\n",
       "            <style>\n",
       "                .geemap-dark {\n",
       "                    --jp-widgets-color: white;\n",
       "                    --jp-widgets-label-color: white;\n",
       "                    --jp-ui-font-color1: white;\n",
       "                    --jp-layout-color2: #454545;\n",
       "                    background-color: #383838;\n",
       "                }\n",
       "\n",
       "                .geemap-dark .jupyter-button {\n",
       "                    --jp-layout-color3: #383838;\n",
       "                }\n",
       "\n",
       "                .geemap-colab {\n",
       "                    background-color: var(--colab-primary-surface-color, white);\n",
       "                }\n",
       "\n",
       "                .geemap-colab .jupyter-button {\n",
       "                    --jp-layout-color3: var(--colab-primary-surface-color, white);\n",
       "                }\n",
       "            </style>\n",
       "            "
      ],
      "text/plain": [
       "<IPython.core.display.HTML object>"
      ]
     },
     "metadata": {},
     "output_type": "display_data"
    },
    {
     "name": "stdout",
     "output_type": "stream",
     "text": [
      "Forest area by year (ha):\n"
     ]
    },
    {
     "data": {
      "text/html": [
       "<div>\n",
       "<style scoped>\n",
       "    .dataframe tbody tr th:only-of-type {\n",
       "        vertical-align: middle;\n",
       "    }\n",
       "\n",
       "    .dataframe tbody tr th {\n",
       "        vertical-align: top;\n",
       "    }\n",
       "\n",
       "    .dataframe thead th {\n",
       "        text-align: right;\n",
       "    }\n",
       "</style>\n",
       "<table border=\"1\" class=\"dataframe\">\n",
       "  <thead>\n",
       "    <tr style=\"text-align: right;\">\n",
       "      <th></th>\n",
       "      <th>Year</th>\n",
       "      <th>Forest area (ha)</th>\n",
       "    </tr>\n",
       "  </thead>\n",
       "  <tbody>\n",
       "    <tr>\n",
       "      <th>0</th>\n",
       "      <td>1990</td>\n",
       "      <td>257533.244811</td>\n",
       "    </tr>\n",
       "    <tr>\n",
       "      <th>1</th>\n",
       "      <td>2005</td>\n",
       "      <td>196874.403399</td>\n",
       "    </tr>\n",
       "    <tr>\n",
       "      <th>2</th>\n",
       "      <td>2020</td>\n",
       "      <td>208405.822051</td>\n",
       "    </tr>\n",
       "  </tbody>\n",
       "</table>\n",
       "</div>"
      ],
      "text/plain": [
       "   Year  Forest area (ha)\n",
       "0  1990     257533.244811\n",
       "1  2005     196874.403399\n",
       "2  2020     208405.822051"
      ]
     },
     "metadata": {},
     "output_type": "display_data"
    },
    {
     "name": "stdout",
     "output_type": "stream",
     "text": [
      "Deforestation area by period (ha):\n"
     ]
    },
    {
     "data": {
      "text/html": [
       "<div>\n",
       "<style scoped>\n",
       "    .dataframe tbody tr th:only-of-type {\n",
       "        vertical-align: middle;\n",
       "    }\n",
       "\n",
       "    .dataframe tbody tr th {\n",
       "        vertical-align: top;\n",
       "    }\n",
       "\n",
       "    .dataframe thead th {\n",
       "        text-align: right;\n",
       "    }\n",
       "</style>\n",
       "<table border=\"1\" class=\"dataframe\">\n",
       "  <thead>\n",
       "    <tr style=\"text-align: right;\">\n",
       "      <th></th>\n",
       "      <th>Period</th>\n",
       "      <th>Deforestation area (ha)</th>\n",
       "    </tr>\n",
       "  </thead>\n",
       "  <tbody>\n",
       "    <tr>\n",
       "      <th>0</th>\n",
       "      <td>1990–2005</td>\n",
       "      <td>73802.805369</td>\n",
       "    </tr>\n",
       "    <tr>\n",
       "      <th>1</th>\n",
       "      <td>2005–2020</td>\n",
       "      <td>30859.746029</td>\n",
       "    </tr>\n",
       "  </tbody>\n",
       "</table>\n",
       "</div>"
      ],
      "text/plain": [
       "      Period  Deforestation area (ha)\n",
       "0  1990–2005             73802.805369\n",
       "1  2005–2020             30859.746029"
      ]
     },
     "metadata": {},
     "output_type": "display_data"
    },
    {
     "name": "stdout",
     "output_type": "stream",
     "text": [
      "FAO deforestation rate (annual, 1990–2020): -0.7031%\n"
     ]
    }
   ],
   "source": [
    "# Tabular summaries ───────────────────────────────────────────────────────\n",
    "import pandas as pd\n",
    "df_areas = pd.DataFrame({\n",
    "    \"Year\": year_list,\n",
    "    \"Forest area (ha)\": [areas_client[y] for y in year_list]\n",
    "}).sort_values(\"Year\")\n",
    "\n",
    "df_defor = pd.DataFrame({\n",
    "    \"Period\": [\"1990–2005\", \"2005–2020\"],\n",
    "    \"Deforestation area (ha)\": [def1990_2005_ha_client, def2005_2020_ha_client]\n",
    "})\n",
    "\n",
    "print(\"Forest area by year (ha):\")\n",
    "display(df_areas)\n",
    "\n",
    "print(\"Deforestation area by period (ha):\")\n",
    "display(df_defor)\n",
    "\n",
    "print(\"FAO deforestation rate (annual, 1990–2020): {:.4%}\".format(q) if not math.isnan(q) else \"FAO deforestation rate: N/A\")"
   ]
  },
  {
   "cell_type": "code",
   "execution_count": 11,
   "id": "564047bc",
   "metadata": {},
   "outputs": [
    {
     "data": {
      "text/html": [
       "\n",
       "            <style>\n",
       "                .geemap-dark {\n",
       "                    --jp-widgets-color: white;\n",
       "                    --jp-widgets-label-color: white;\n",
       "                    --jp-ui-font-color1: white;\n",
       "                    --jp-layout-color2: #454545;\n",
       "                    background-color: #383838;\n",
       "                }\n",
       "\n",
       "                .geemap-dark .jupyter-button {\n",
       "                    --jp-layout-color3: #383838;\n",
       "                }\n",
       "\n",
       "                .geemap-colab {\n",
       "                    background-color: var(--colab-primary-surface-color, white);\n",
       "                }\n",
       "\n",
       "                .geemap-colab .jupyter-button {\n",
       "                    --jp-layout-color3: var(--colab-primary-surface-color, white);\n",
       "                }\n",
       "            </style>\n",
       "            "
      ],
      "text/plain": [
       "<IPython.core.display.HTML object>"
      ]
     },
     "metadata": {},
     "output_type": "display_data"
    },
    {
     "data": {
      "image/png": "[encoded data removed]",
      "text/plain": [
       "<Figure size 640x480 with 1 Axes>"
      ]
     },
     "metadata": {},
     "output_type": "display_data"
    }
   ],
   "source": [
    "# Forest Area Chart ────────────────────────────────────────────────\n",
    "plt.figure()\n",
    "plt.bar(df_areas[\"Year\"].astype(str), df_areas[\"Forest area (ha)\"])\n",
    "plt.title(\"Forest Area in Palangkara-West Kalimantan\")\n",
    "plt.xlabel(\"Year\")\n",
    "plt.ylabel(\"Area (ha)\")\n",
    "plt.tight_layout()\n",
    "plt.show()\n"
   ]
  },
  {
   "cell_type": "markdown",
   "id": "177e24eb",
   "metadata": {},
   "source": [
    "### Notes & Parameters\n",
    "- **Collections:** Landsat Collection 2 Level-2 paths: `LT04`, `LT05`, `LC08`, `LC09` (T1_L2).  \n",
    "- **Scaling:** SR bands scaled per Collection 2: `reflectance = DN*0.0000275 - 0.2`.  \n",
    "- **VI threshold:** `VI > 0.7` as forest\n",
    "- **Kernel for risk:** 9×9 kernel filled with the magnitude of the **annual deforestation rate**;  \n",
    "- **Admin boundaries:** FAO GAUL 2015.  \n"
   ]
  }
 ],
 "metadata": {
  "kernelspec": {
   "display_name": "gee_env",
   "language": "python",
   "name": "python3"
  },
  "language_info": {
   "codemirror_mode": {
    "name": "ipython",
    "version": 3
   },
   "file_extension": ".py",
   "mimetype": "text/x-python",
   "name": "python",
   "nbconvert_exporter": "python",
   "pygments_lexer": "ipython3",
   "version": "3.10.18"
  }
 },
 "nbformat": 4,
 "nbformat_minor": 5
}
