{
 "cells": [
  {
   "cell_type": "code",
   "execution_count": 1,
   "id": "78bf5835",
   "metadata": {},
   "outputs": [
    {
     "name": "stdout",
     "output_type": "stream",
     "text": [
      "EE initialized.\n"
     ]
    }
   ],
   "source": [
    "# ================================================================\n",
    "# LULC (SVM) for Omo Forest Reserve, Nigeria (2020 & 2024)\n",
    "# Landsat 8 OLI/TIRS C2 L2 + ESA Dynamic World labels\n",
    "# ================================================================\n",
    "\n",
    "# (If needed)\n",
    "# !pip install -q earthengine-api geemap pandas matplotlib ipywidgets\n",
    "\n",
    "import ee, geemap, pandas as pd, numpy as np\n",
    "import matplotlib.pyplot as plt\n",
    "import ipywidgets as widgets\n",
    "\n",
    "# --------------------------------------------\n",
    "# 0) Initialize Earth Engine\n",
    "# --------------------------------------------\n",
    "# ee.Authenticate()  # uncomment if you didn't authenticate yet\n",
    "ee.Initialize()\n",
    "print(\"EE initialized.\")\n"
   ]
  },
  {
   "cell_type": "code",
   "execution_count": 3,
   "id": "2f77f78c",
   "metadata": {},
   "outputs": [
    {
     "data": {
      "text/html": [
       "\n",
       "            <style>\n",
       "                .geemap-dark {\n",
       "                    --jp-widgets-color: white;\n",
       "                    --jp-widgets-label-color: white;\n",
       "                    --jp-ui-font-color1: white;\n",
       "                    --jp-layout-color2: #454545;\n",
       "                    background-color: #383838;\n",
       "                }\n",
       "\n",
       "                .geemap-dark .jupyter-button {\n",
       "                    --jp-layout-color3: #383838;\n",
       "                }\n",
       "\n",
       "                .geemap-colab {\n",
       "                    background-color: var(--colab-primary-surface-color, white);\n",
       "                }\n",
       "\n",
       "                .geemap-colab .jupyter-button {\n",
       "                    --jp-layout-color3: var(--colab-primary-surface-color, white);\n",
       "                }\n",
       "            </style>\n",
       "            "
      ],
      "text/plain": [
       "<IPython.core.display.HTML object>"
      ]
     },
     "metadata": {},
     "output_type": "display_data"
    },
    {
     "name": "stdout",
     "output_type": "stream",
     "text": [
      "AOI set to custom Omo polygon.\n"
     ]
    }
   ],
   "source": [
    "# --------------------------------------------\n",
    "# AREA OF INTEREST (AOI): Omo Forest Reserve\n",
    "# --------------------------------------------\n",
    "# --------------------------------------------\n",
    "# 1) AREA OF INTEREST (AOI): Omo polygon you provided\n",
    "# --------------------------------------------\n",
    "Omo = ee.Geometry.Polygon([[\n",
    "  [4.2361423319195035, 6.675272469761398],\n",
    "  [4.2031833475445035, 6.604340319422325],\n",
    "  [4.2691013162945035, 6.57705600965718],\n",
    "  [4.3432590311382535, 6.598883577612744],\n",
    "  [4.4009372537945035, 6.6425358246122395],\n",
    "  [4.4366428202007535, 6.743466771144455],\n",
    "  [4.5574924295757535, 6.808924273863115],\n",
    "  [4.5739719217632535, 6.866192268040673],\n",
    "  [4.5931979959820035, 7.005242878650024],\n",
    "  [4.4805881327007535, 7.027050998402345],\n",
    "  [4.3597385233257535, 7.09792030552165],\n",
    "  [4.2471286600445035, 7.122449451452426],\n",
    "  [4.1509982889507535, 7.057035491853953],\n",
    "  [4.133191713488422, 6.975352088855542],\n",
    "  [4.163404115832172, 6.794021458463974],\n",
    "  [4.199109682238422, 6.742200066070055]\n",
    "]])\n",
    "\n",
    "AOI = Omo\n",
    "AOI_SIMP = AOI.simplify(100)  # slight simplification helps reducers run faster\n",
    "print(\"AOI set to custom Omo polygon.\")\n",
    "\n",
    "\n",
    "\n"
   ]
  },
  {
   "cell_type": "code",
   "execution_count": 4,
   "id": "2ff1e61d",
   "metadata": {},
   "outputs": [
    {
     "data": {
      "text/html": [
       "\n",
       "            <style>\n",
       "                .geemap-dark {\n",
       "                    --jp-widgets-color: white;\n",
       "                    --jp-widgets-label-color: white;\n",
       "                    --jp-ui-font-color1: white;\n",
       "                    --jp-layout-color2: #454545;\n",
       "                    background-color: #383838;\n",
       "                }\n",
       "\n",
       "                .geemap-dark .jupyter-button {\n",
       "                    --jp-layout-color3: #383838;\n",
       "                }\n",
       "\n",
       "                .geemap-colab {\n",
       "                    background-color: var(--colab-primary-surface-color, white);\n",
       "                }\n",
       "\n",
       "                .geemap-colab .jupyter-button {\n",
       "                    --jp-layout-color3: var(--colab-primary-surface-color, white);\n",
       "                }\n",
       "            </style>\n",
       "            "
      ],
      "text/plain": [
       "<IPython.core.display.HTML object>"
      ]
     },
     "metadata": {},
     "output_type": "display_data"
    },
    {
     "name": "stdout",
     "output_type": "stream",
     "text": [
      "Landsat utils ready.\n"
     ]
    }
   ],
   "source": [
    "# --------------------------------------------\n",
    "# UTILS: Cloud masking & indices for Landsat-8 C2 L2\n",
    "# --------------------------------------------\n",
    "L8 = ee.ImageCollection('LANDSAT/LC08/C02/T1_L2')\n",
    "\n",
    "L8_BANDS = ['SR_B2','SR_B3','SR_B4','SR_B5','SR_B6','SR_B7']  # Blue..SWIR2\n",
    "OUT_BANDS = ['BLUE','GREEN','RED','NIR','SWIR1','SWIR2']\n",
    "\n",
    "def scale_l2(img):\n",
    "    # apply USGS scale/offset for SR bands\n",
    "    sr = img.select(L8_BANDS).multiply(0.0000275).add(-0.2)\n",
    "    qa = img.select('QA_PIXEL')\n",
    "    return (sr.rename(OUT_BANDS)\n",
    "            .copyProperties(img, img.propertyNames())\n",
    "            .addBands(qa))\n",
    "\n",
    "def mask_l2_clouds(img):\n",
    "    qa = img.select('QA_PIXEL')\n",
    "    # bit 3 = cloud shadow, bit 4 = cloud, bit 5 = snow, bit 7 = cirrus\n",
    "    cloud_shadow = qa.bitwiseAnd(1<<3).eq(0)\n",
    "    clouds       = qa.bitwiseAnd(1<<4).eq(0)\n",
    "    snow         = qa.bitwiseAnd(1<<5).eq(0)\n",
    "    cirrus       = qa.bitwiseAnd(1<<7).eq(0)\n",
    "    mask = cloud_shadow.And(clouds).And(snow).And(cirrus)\n",
    "    return img.updateMask(mask)\n",
    "\n",
    "def add_indices(img):\n",
    "    b = img\n",
    "    ndvi = b.expression('(NIR-RED)/(NIR+RED)', {'NIR': b.select('NIR'),'RED': b.select('RED')}).rename('NDVI')\n",
    "    ndwi = b.expression('(GREEN-NIR)/(GREEN+NIR)', {'GREEN': b.select('GREEN'),'NIR': b.select('NIR')}).rename('NDWI')\n",
    "    ndbi = b.expression('(SWIR1-NIR)/(SWIR1+NIR)', {'SWIR1': b.select('SWIR1'),'NIR': b.select('NIR')}).rename('NDBI')\n",
    "    evi  = b.expression('2.5*(NIR-RED)/(NIR+6*RED-7.5*BLUE+1)', {\n",
    "        'NIR': b.select('NIR'), 'RED': b.select('RED'), 'BLUE': b.select('BLUE')\n",
    "    }).rename('EVI')\n",
    "    return img.addBands([ndvi, ndwi, ndbi, evi])\n",
    "\n",
    "def annual_composite(year, region):\n",
    "    start = ee.Date.fromYMD(year,1,1)\n",
    "    end   = start.advance(1,'year')\n",
    "    ic = (L8.filterDate(start, end)\n",
    "              .filterBounds(region)\n",
    "              .map(scale_l2)\n",
    "              .map(mask_l2_clouds))\n",
    "    # median composite\n",
    "    comp = ic.median().select(OUT_BANDS).clip(region)\n",
    "    return add_indices(comp)\n",
    "\n",
    "print(\"Landsat utils ready.\")\n"
   ]
  },
  {
   "cell_type": "code",
   "execution_count": 6,
   "id": "3c53436e",
   "metadata": {},
   "outputs": [
    {
     "data": {
      "text/html": [
       "\n",
       "            <style>\n",
       "                .geemap-dark {\n",
       "                    --jp-widgets-color: white;\n",
       "                    --jp-widgets-label-color: white;\n",
       "                    --jp-ui-font-color1: white;\n",
       "                    --jp-layout-color2: #454545;\n",
       "                    background-color: #383838;\n",
       "                }\n",
       "\n",
       "                .geemap-dark .jupyter-button {\n",
       "                    --jp-layout-color3: #383838;\n",
       "                }\n",
       "\n",
       "                .geemap-colab {\n",
       "                    background-color: var(--colab-primary-surface-color, white);\n",
       "                }\n",
       "\n",
       "                .geemap-colab .jupyter-button {\n",
       "                    --jp-layout-color3: var(--colab-primary-surface-color, white);\n",
       "                }\n",
       "            </style>\n",
       "            "
      ],
      "text/plain": [
       "<IPython.core.display.HTML object>"
      ]
     },
     "metadata": {},
     "output_type": "display_data"
    }
   ],
   "source": [
    "# ---- LANDSAT 8 L2 scaling + masking (fixed) ----\n",
    "# Bands you want from L2 (surface reflectance)\n",
    "L8_BANDS = ['SR_B2','SR_B3','SR_B4','SR_B5','SR_B6','SR_B7']  # Blue..SWIR2\n",
    "OUT_BANDS = ['blue','green','red','nir','swir1','swir2']\n",
    "\n",
    "def scale_l2(img):\n",
    "    img = ee.Image(img)  # <-- IMPORTANT: cast to Image\n",
    "    # Apply L2 scale factors: reflectance = DN * 0.0000275 + (-0.2)\n",
    "    sr = img.select(L8_BANDS).multiply(0.0000275).add(-0.2).rename(OUT_BANDS)\n",
    "    qa = img.select('QA_PIXEL')\n",
    "    # keep QA as a band (useful for masking later/inspection)\n",
    "    return sr.addBands(qa).copyProperties(img, img.propertyNames())\n",
    "\n",
    "def mask_l2_clouds(img):\n",
    "    img = ee.Image(img)  # <-- IMPORTANT: cast to Image\n",
    "    qa = img.select('QA_PIXEL')\n",
    "    # QA_PIXEL bit 3 = cloud shadow, bit 4 = cloud\n",
    "    cloud_shadow = qa.bitwiseAnd(1 << 3).eq(0)\n",
    "    cloud        = qa.bitwiseAnd(1 << 4).eq(0)\n",
    "    mask = cloud.And(cloud_shadow)\n",
    "    return img.updateMask(mask)\n",
    "\n",
    "# Landsat 8 OLI/TIRS Collection 2, Tier 1, L2\n",
    "L8 = ee.ImageCollection('LANDSAT/LC08/C02/T1_L2')\n"
   ]
  },
  {
   "cell_type": "code",
   "execution_count": 7,
   "id": "65b36035",
   "metadata": {},
   "outputs": [
    {
     "data": {
      "text/html": [
       "\n",
       "            <style>\n",
       "                .geemap-dark {\n",
       "                    --jp-widgets-color: white;\n",
       "                    --jp-widgets-label-color: white;\n",
       "                    --jp-ui-font-color1: white;\n",
       "                    --jp-layout-color2: #454545;\n",
       "                    background-color: #383838;\n",
       "                }\n",
       "\n",
       "                .geemap-dark .jupyter-button {\n",
       "                    --jp-layout-color3: #383838;\n",
       "                }\n",
       "\n",
       "                .geemap-colab {\n",
       "                    background-color: var(--colab-primary-surface-color, white);\n",
       "                }\n",
       "\n",
       "                .geemap-colab .jupyter-button {\n",
       "                    --jp-layout-color3: var(--colab-primary-surface-color, white);\n",
       "                }\n",
       "            </style>\n",
       "            "
      ],
      "text/plain": [
       "<IPython.core.display.HTML object>"
      ]
     },
     "metadata": {},
     "output_type": "display_data"
    }
   ],
   "source": [
    "def annual_composite(year, region):\n",
    "    start = ee.Date.fromYMD(year, 1, 1)\n",
    "    end   = start.advance(1, 'year')\n",
    "    ic = (L8.filterDate(start, end)\n",
    "            .filterBounds(region)\n",
    "            .map(scale_l2)\n",
    "            .map(mask_l2_clouds))\n",
    "    # Median composite of scaled bands, clip to AOI\n",
    "    comp = ic.median().select(OUT_BANDS).clip(region)\n",
    "    return comp\n"
   ]
  },
  {
   "cell_type": "code",
   "execution_count": 10,
   "id": "a0aaa407",
   "metadata": {},
   "outputs": [
    {
     "data": {
      "text/html": [
       "\n",
       "            <style>\n",
       "                .geemap-dark {\n",
       "                    --jp-widgets-color: white;\n",
       "                    --jp-widgets-label-color: white;\n",
       "                    --jp-ui-font-color1: white;\n",
       "                    --jp-layout-color2: #454545;\n",
       "                    background-color: #383838;\n",
       "                }\n",
       "\n",
       "                .geemap-dark .jupyter-button {\n",
       "                    --jp-layout-color3: #383838;\n",
       "                }\n",
       "\n",
       "                .geemap-colab {\n",
       "                    background-color: var(--colab-primary-surface-color, white);\n",
       "                }\n",
       "\n",
       "                .geemap-colab .jupyter-button {\n",
       "                    --jp-layout-color3: var(--colab-primary-surface-color, white);\n",
       "                }\n",
       "            </style>\n",
       "            "
      ],
      "text/plain": [
       "<IPython.core.display.HTML object>"
      ]
     },
     "metadata": {},
     "output_type": "display_data"
    },
    {
     "name": "stdout",
     "output_type": "stream",
     "text": [
      "Composites built for 2020 & 2024.\n"
     ]
    }
   ],
   "source": [
    "# --------------------------------------------\n",
    "# BUILD 2020 & 2024 COMPOSITES\n",
    "# --------------------------------------------\n",
    "img2020 = annual_composite(2020, AOI)\n",
    "img2024 = annual_composite(2024, AOI)\n",
    "print(\"Composites built for 2020 & 2024.\")\n",
    "\n"
   ]
  },
  {
   "cell_type": "code",
   "execution_count": 11,
   "id": "9f22bd74",
   "metadata": {},
   "outputs": [
    {
     "data": {
      "text/html": [
       "\n",
       "            <style>\n",
       "                .geemap-dark {\n",
       "                    --jp-widgets-color: white;\n",
       "                    --jp-widgets-label-color: white;\n",
       "                    --jp-ui-font-color1: white;\n",
       "                    --jp-layout-color2: #454545;\n",
       "                    background-color: #383838;\n",
       "                }\n",
       "\n",
       "                .geemap-dark .jupyter-button {\n",
       "                    --jp-layout-color3: #383838;\n",
       "                }\n",
       "\n",
       "                .geemap-colab {\n",
       "                    background-color: var(--colab-primary-surface-color, white);\n",
       "                }\n",
       "\n",
       "                .geemap-colab .jupyter-button {\n",
       "                    --jp-layout-color3: var(--colab-primary-surface-color, white);\n",
       "                }\n",
       "            </style>\n",
       "            "
      ],
      "text/plain": [
       "<IPython.core.display.HTML object>"
      ]
     },
     "metadata": {},
     "output_type": "display_data"
    }
   ],
   "source": [
    "# --------------------------------------------\n",
    "# TRAINING DATA (proxy) FROM ESA Dynamic World\n",
    "#    -> we map DW 9 classes to 6 target classes suitable for Landsat LULC\n",
    "# --------------------------------------------\n",
    "DW = ee.ImageCollection('GOOGLE/ESA/DYNAMICWORLD/V1')\n",
    "\n",
    "# Map Dynamic World 0..8 -> our 6 classes\n",
    "# 0 Water -> 0 Water\n",
    "# 1 Trees, 6 Shrub & Scrub -> 1 Forest/Shrub\n",
    "# 2 Grass, 4 Crops -> 2 Herbaceous/Cropland\n",
    "# 3 Flooded vegetation -> 3 Wetlands\n",
    "# 7 Bare ground -> 4 Bare\n",
    "# 5 Built area -> 5 Built-up\n",
    "DW2TARGET = ee.Dictionary({\n",
    "    0: 0,                # Water\n",
    "    1: 1, 6: 1,          # Forest/Shrub\n",
    "    2: 2, 4: 2,          # Herbaceous/Cropland\n",
    "    3: 3,                # Wetlands\n",
    "    7: 4,                # Bare\n",
    "    5: 5,                # Built-up\n",
    "    8: 4                 # Snow & Ice -> treat as Bare in tropics (rare)\n",
    "})\n",
    "\n",
    "TARGET_CLASSES = {\n",
    "    0: 'Water',\n",
    "    1: 'Forest/Shrub',\n",
    "    2: 'Herbaceous/Cropland',\n",
    "    3: 'Wetlands',\n",
    "    4: 'Bare',\n",
    "    5: 'Built-up'\n",
    "}\n",
    "PALETTE = ['#4C9ED9','#1c6b2a','#B5D56A','#7A87C6','#C2B280','#C4281B']\n",
    "\n",
    "def dw_year_mode(year, region):\n",
    "    start = ee.Date.fromYMD(year,1,1)\n",
    "    end = start.advance(1,'year')\n",
    "    lab = (DW.filterDate(start,end)\n",
    "             .filterBounds(region)\n",
    "             .select('label')\n",
    "             .reduce(ee.Reducer.mode())\n",
    "             .select('label_mode')\n",
    "             .rename('dw'))\n",
    "    # remap to target classes\n",
    "    remapped = lab.remap(\n",
    "        # original class codes 0..8\n",
    "        ee.List.sequence(0,8),\n",
    "        ee.List([DW2TARGET.get(i) for i in ee.List.sequence(0,8).getInfo()])\n",
    "    ).rename('label')\n",
    "    return remapped.clip(region)\n",
    "\n",
    "label2020 = dw_year_mode(2020, AOI)\n",
    "label2024 = dw_year_mode(2024, AOI)"
   ]
  },
  {
   "cell_type": "code",
   "execution_count": 15,
   "id": "ea3bfbb8",
   "metadata": {},
   "outputs": [
    {
     "data": {
      "text/html": [
       "\n",
       "            <style>\n",
       "                .geemap-dark {\n",
       "                    --jp-widgets-color: white;\n",
       "                    --jp-widgets-label-color: white;\n",
       "                    --jp-ui-font-color1: white;\n",
       "                    --jp-layout-color2: #454545;\n",
       "                    background-color: #383838;\n",
       "                }\n",
       "\n",
       "                .geemap-dark .jupyter-button {\n",
       "                    --jp-layout-color3: #383838;\n",
       "                }\n",
       "\n",
       "                .geemap-colab {\n",
       "                    background-color: var(--colab-primary-surface-color, white);\n",
       "                }\n",
       "\n",
       "                .geemap-colab .jupyter-button {\n",
       "                    --jp-layout-color3: var(--colab-primary-surface-color, white);\n",
       "                }\n",
       "            </style>\n",
       "            "
      ],
      "text/plain": [
       "<IPython.core.display.HTML object>"
      ]
     },
     "metadata": {},
     "output_type": "display_data"
    }
   ],
   "source": [
    "def as_label(img):\n",
    "    \"\"\"Ensure the label image has a single INT band called 'label'.\"\"\"\n",
    "    img = ee.Image(img)\n",
    "    # If multiple bands slipped in, keep the first.\n",
    "    first = ee.Image(img.select([0]))\n",
    "    return first.rename('label').toInt()\n",
    "\n",
    "label2020 = as_label(label2020)\n",
    "label2024 = as_label(label2024)"
   ]
  },
  {
   "cell_type": "code",
   "execution_count": 16,
   "id": "dd0f6558",
   "metadata": {},
   "outputs": [
    {
     "data": {
      "text/html": [
       "\n",
       "            <style>\n",
       "                .geemap-dark {\n",
       "                    --jp-widgets-color: white;\n",
       "                    --jp-widgets-label-color: white;\n",
       "                    --jp-ui-font-color1: white;\n",
       "                    --jp-layout-color2: #454545;\n",
       "                    background-color: #383838;\n",
       "                }\n",
       "\n",
       "                .geemap-dark .jupyter-button {\n",
       "                    --jp-layout-color3: #383838;\n",
       "                }\n",
       "\n",
       "                .geemap-colab {\n",
       "                    background-color: var(--colab-primary-surface-color, white);\n",
       "                }\n",
       "\n",
       "                .geemap-colab .jupyter-button {\n",
       "                    --jp-layout-color3: var(--colab-primary-surface-color, white);\n",
       "                }\n",
       "            </style>\n",
       "            "
      ],
      "text/plain": [
       "<IPython.core.display.HTML object>"
      ]
     },
     "metadata": {},
     "output_type": "display_data"
    },
    {
     "ename": "EEException",
     "evalue": "Dictionary.get, argument 'key': Invalid type.\nExpected type: String.\nActual type: Integer.\nActual value: 0",
     "output_type": "error",
     "traceback": [
      "\u001b[1;31m---------------------------------------------------------------------------\u001b[0m",
      "\u001b[1;31mHttpError\u001b[0m                                 Traceback (most recent call last)",
      "File \u001b[1;32mc:\\Users\\damil\\anaconda3\\envs\\gee_env\\lib\\site-packages\\ee\\data.py:409\u001b[0m, in \u001b[0;36m_execute_cloud_call\u001b[1;34m(call, num_retries)\u001b[0m\n\u001b[0;32m    408\u001b[0m \u001b[38;5;28;01mtry\u001b[39;00m:\n\u001b[1;32m--> 409\u001b[0m   \u001b[38;5;28;01mreturn\u001b[39;00m \u001b[43mcall\u001b[49m\u001b[38;5;241;43m.\u001b[39;49m\u001b[43mexecute\u001b[49m\u001b[43m(\u001b[49m\u001b[43mnum_retries\u001b[49m\u001b[38;5;241;43m=\u001b[39;49m\u001b[43mnum_retries\u001b[49m\u001b[43m)\u001b[49m\n\u001b[0;32m    410\u001b[0m \u001b[38;5;28;01mexcept\u001b[39;00m googleapiclient\u001b[38;5;241m.\u001b[39merrors\u001b[38;5;241m.\u001b[39mHttpError \u001b[38;5;28;01mas\u001b[39;00m e:\n",
      "File \u001b[1;32mc:\\Users\\damil\\anaconda3\\envs\\gee_env\\lib\\site-packages\\googleapiclient\\_helpers.py:130\u001b[0m, in \u001b[0;36mpositional.<locals>.positional_decorator.<locals>.positional_wrapper\u001b[1;34m(*args, **kwargs)\u001b[0m\n\u001b[0;32m    129\u001b[0m         logger\u001b[38;5;241m.\u001b[39mwarning(message)\n\u001b[1;32m--> 130\u001b[0m \u001b[38;5;28;01mreturn\u001b[39;00m wrapped(\u001b[38;5;241m*\u001b[39margs, \u001b[38;5;241m*\u001b[39m\u001b[38;5;241m*\u001b[39mkwargs)\n",
      "File \u001b[1;32mc:\\Users\\damil\\anaconda3\\envs\\gee_env\\lib\\site-packages\\googleapiclient\\http.py:938\u001b[0m, in \u001b[0;36mHttpRequest.execute\u001b[1;34m(self, http, num_retries)\u001b[0m\n\u001b[0;32m    937\u001b[0m \u001b[38;5;28;01mif\u001b[39;00m resp\u001b[38;5;241m.\u001b[39mstatus \u001b[38;5;241m>\u001b[39m\u001b[38;5;241m=\u001b[39m \u001b[38;5;241m300\u001b[39m:\n\u001b[1;32m--> 938\u001b[0m     \u001b[38;5;28;01mraise\u001b[39;00m HttpError(resp, content, uri\u001b[38;5;241m=\u001b[39m\u001b[38;5;28mself\u001b[39m\u001b[38;5;241m.\u001b[39muri)\n\u001b[0;32m    939\u001b[0m \u001b[38;5;28;01mreturn\u001b[39;00m \u001b[38;5;28mself\u001b[39m\u001b[38;5;241m.\u001b[39mpostproc(resp, content)\n",
      "\u001b[1;31mHttpError\u001b[0m: <HttpError 400 when requesting https://earthengine.googleapis.com/v1/projects/65946615687/value:compute?prettyPrint=false&alt=json returned \"Dictionary.get, argument 'key': Invalid type.\nExpected type: String.\nActual type: Integer.\nActual value: 0\". Details: \"Dictionary.get, argument 'key': Invalid type.\nExpected type: String.\nActual type: Integer.\nActual value: 0\">",
      "\nDuring handling of the above exception, another exception occurred:\n",
      "\u001b[1;31mEEException\u001b[0m                               Traceback (most recent call last)",
      "Cell \u001b[1;32mIn[16], line 37\u001b[0m\n\u001b[0;32m     33\u001b[0m train2020, test2020 \u001b[38;5;241m=\u001b[39m stratified_samples(img2020, label2020, AOI_SIMP)\n\u001b[0;32m     34\u001b[0m train2024, test2024 \u001b[38;5;241m=\u001b[39m stratified_samples(img2024, label2024, AOI_SIMP)\n\u001b[0;32m     36\u001b[0m \u001b[38;5;28mprint\u001b[39m(\u001b[38;5;124m'\u001b[39m\u001b[38;5;124mSample sizes:\u001b[39m\u001b[38;5;124m'\u001b[39m,\n\u001b[1;32m---> 37\u001b[0m       \u001b[38;5;124m'\u001b[39m\u001b[38;5;124m2020 train\u001b[39m\u001b[38;5;124m'\u001b[39m, \u001b[43mtrain2020\u001b[49m\u001b[38;5;241;43m.\u001b[39;49m\u001b[43msize\u001b[49m\u001b[43m(\u001b[49m\u001b[43m)\u001b[49m\u001b[38;5;241;43m.\u001b[39;49m\u001b[43mgetInfo\u001b[49m\u001b[43m(\u001b[49m\u001b[43m)\u001b[49m, \u001b[38;5;124m'\u001b[39m\u001b[38;5;124mtest\u001b[39m\u001b[38;5;124m'\u001b[39m, test2020\u001b[38;5;241m.\u001b[39msize()\u001b[38;5;241m.\u001b[39mgetInfo(),\n\u001b[0;32m     38\u001b[0m       \u001b[38;5;124m'\u001b[39m\u001b[38;5;124m2024 train\u001b[39m\u001b[38;5;124m'\u001b[39m, train2024\u001b[38;5;241m.\u001b[39msize()\u001b[38;5;241m.\u001b[39mgetInfo(), \u001b[38;5;124m'\u001b[39m\u001b[38;5;124mtest\u001b[39m\u001b[38;5;124m'\u001b[39m, test2024\u001b[38;5;241m.\u001b[39msize()\u001b[38;5;241m.\u001b[39mgetInfo())\n",
      "File \u001b[1;32mc:\\Users\\damil\\anaconda3\\envs\\gee_env\\lib\\site-packages\\ee\\computedobject.py:107\u001b[0m, in \u001b[0;36mComputedObject.getInfo\u001b[1;34m(self)\u001b[0m\n\u001b[0;32m    101\u001b[0m \u001b[38;5;28;01mdef\u001b[39;00m\u001b[38;5;250m \u001b[39m\u001b[38;5;21mgetInfo\u001b[39m(\u001b[38;5;28mself\u001b[39m) \u001b[38;5;241m-\u001b[39m\u001b[38;5;241m>\u001b[39m Any \u001b[38;5;241m|\u001b[39m \u001b[38;5;28;01mNone\u001b[39;00m:\n\u001b[0;32m    102\u001b[0m \u001b[38;5;250m  \u001b[39m\u001b[38;5;124;03m\"\"\"Fetch and return information about this object.\u001b[39;00m\n\u001b[0;32m    103\u001b[0m \n\u001b[0;32m    104\u001b[0m \u001b[38;5;124;03m  Returns:\u001b[39;00m\n\u001b[0;32m    105\u001b[0m \u001b[38;5;124;03m    The object can evaluate to anything.\u001b[39;00m\n\u001b[0;32m    106\u001b[0m \u001b[38;5;124;03m  \"\"\"\u001b[39;00m\n\u001b[1;32m--> 107\u001b[0m   \u001b[38;5;28;01mreturn\u001b[39;00m \u001b[43mdata\u001b[49m\u001b[38;5;241;43m.\u001b[39;49m\u001b[43mcomputeValue\u001b[49m\u001b[43m(\u001b[49m\u001b[38;5;28;43mself\u001b[39;49m\u001b[43m)\u001b[49m\n",
      "File \u001b[1;32mc:\\Users\\damil\\anaconda3\\envs\\gee_env\\lib\\site-packages\\ee\\data.py:1128\u001b[0m, in \u001b[0;36mcomputeValue\u001b[1;34m(obj)\u001b[0m\n\u001b[0;32m   1125\u001b[0m body \u001b[38;5;241m=\u001b[39m {\u001b[38;5;124m'\u001b[39m\u001b[38;5;124mexpression\u001b[39m\u001b[38;5;124m'\u001b[39m: serializer\u001b[38;5;241m.\u001b[39mencode(obj, for_cloud_api\u001b[38;5;241m=\u001b[39m\u001b[38;5;28;01mTrue\u001b[39;00m)}\n\u001b[0;32m   1126\u001b[0m _maybe_populate_workload_tag(body)\n\u001b[1;32m-> 1128\u001b[0m \u001b[38;5;28;01mreturn\u001b[39;00m \u001b[43m_execute_cloud_call\u001b[49m\u001b[43m(\u001b[49m\n\u001b[0;32m   1129\u001b[0m \u001b[43m    \u001b[49m\u001b[43m_get_cloud_projects\u001b[49m\u001b[43m(\u001b[49m\u001b[43m)\u001b[49m\n\u001b[0;32m   1130\u001b[0m \u001b[43m    \u001b[49m\u001b[38;5;241;43m.\u001b[39;49m\u001b[43mvalue\u001b[49m\u001b[43m(\u001b[49m\u001b[43m)\u001b[49m\n\u001b[0;32m   1131\u001b[0m \u001b[43m    \u001b[49m\u001b[38;5;241;43m.\u001b[39;49m\u001b[43mcompute\u001b[49m\u001b[43m(\u001b[49m\u001b[43mbody\u001b[49m\u001b[38;5;241;43m=\u001b[39;49m\u001b[43mbody\u001b[49m\u001b[43m,\u001b[49m\u001b[43m \u001b[49m\u001b[43mproject\u001b[49m\u001b[38;5;241;43m=\u001b[39;49m\u001b[43m_get_projects_path\u001b[49m\u001b[43m(\u001b[49m\u001b[43m)\u001b[49m\u001b[43m,\u001b[49m\u001b[43m \u001b[49m\u001b[43mprettyPrint\u001b[49m\u001b[38;5;241;43m=\u001b[39;49m\u001b[38;5;28;43;01mFalse\u001b[39;49;00m\u001b[43m)\u001b[49m\n\u001b[0;32m   1132\u001b[0m \u001b[43m\u001b[49m\u001b[43m)\u001b[49m[\u001b[38;5;124m'\u001b[39m\u001b[38;5;124mresult\u001b[39m\u001b[38;5;124m'\u001b[39m]\n",
      "File \u001b[1;32mc:\\Users\\damil\\anaconda3\\envs\\gee_env\\lib\\site-packages\\ee\\data.py:411\u001b[0m, in \u001b[0;36m_execute_cloud_call\u001b[1;34m(call, num_retries)\u001b[0m\n\u001b[0;32m    409\u001b[0m   \u001b[38;5;28;01mreturn\u001b[39;00m call\u001b[38;5;241m.\u001b[39mexecute(num_retries\u001b[38;5;241m=\u001b[39mnum_retries)\n\u001b[0;32m    410\u001b[0m \u001b[38;5;28;01mexcept\u001b[39;00m googleapiclient\u001b[38;5;241m.\u001b[39merrors\u001b[38;5;241m.\u001b[39mHttpError \u001b[38;5;28;01mas\u001b[39;00m e:\n\u001b[1;32m--> 411\u001b[0m   \u001b[38;5;28;01mraise\u001b[39;00m _translate_cloud_exception(e)\n",
      "\u001b[1;31mEEException\u001b[0m: Dictionary.get, argument 'key': Invalid type.\nExpected type: String.\nActual type: Integer.\nActual value: 0"
     ]
    }
   ],
   "source": [
    "# Make sure your TARGET_CLASSES is a dict like {0:'Water', 1:'Built', ...}\n",
    "# If it exists already, we just sort the keys for consistency:\n",
    "CLASS_VALUES = sorted(list(TARGET_CLASSES.keys()))\n",
    "\n",
    "INPUT_BANDS = OUT_BANDS + ['NDVI','NDWI','NDBI','EVI']\n",
    "\n",
    "def stratified_samples(image, label_img, region, n_per_class=400, seed=42):\n",
    "    image = ee.Image(image).select(INPUT_BANDS)\n",
    "    label_img = as_label(label_img).clip(region)\n",
    "\n",
    "    # It helps to mask out places without labels so each feature has a valid 'label':\n",
    "    image_for_sample = image.updateMask(label_img.mask())\n",
    "\n",
    "    pts = (image_for_sample.addBands(label_img)\n",
    "           .stratifiedSample(\n",
    "               numPoints=n_per_class,\n",
    "               classBand='label',\n",
    "               region=region,\n",
    "               scale=30,\n",
    "               geometries=True,\n",
    "               dropNulls=True,\n",
    "               # Be explicit and stable about classes and per-class points\n",
    "               classValues=CLASS_VALUES,\n",
    "               classPoints=[n_per_class] * len(CLASS_VALUES)\n",
    "           ))\n",
    "\n",
    "    # Train/test split 70/30\n",
    "    pts = pts.randomColumn('rand', seed)\n",
    "    train = pts.filter(ee.Filter.lt('rand', 0.7))\n",
    "    test  = pts.filter(ee.Filter.gte('rand', 0.7))\n",
    "    return train, test\n",
    "\n",
    "train2020, test2020 = stratified_samples(img2020, label2020, AOI_SIMP)\n",
    "train2024, test2024 = stratified_samples(img2024, label2024, AOI_SIMP)\n",
    "\n",
    "print('Sample sizes:',\n",
    "      '2020 train', train2020.size().getInfo(), 'test', test2020.size().getInfo(),\n",
    "      '2024 train', train2024.size().getInfo(), 'test', test2024.size().getInfo())\n"
   ]
  },
  {
   "cell_type": "code",
   "execution_count": null,
   "id": "298bb951",
   "metadata": {},
   "outputs": [],
   "source": [
    "# --------------------------------------------\n",
    "# ACCURACY (holdout) & CONFUSION MATRIX\n",
    "# --------------------------------------------\n",
    "def accuracy_report(classifier, test_fc):\n",
    "    classified = test_fc.classify(classifier)\n",
    "    cm = classified.errorMatrix('label', 'classification')\n",
    "    return {\n",
    "        'overall': cm.accuracy().getInfo(),\n",
    "        'kappa': cm.kappa().getInfo(),\n",
    "        'matrix': cm.getInfo()\n",
    "    }\n",
    "\n",
    "acc2020 = accuracy_report(clf2020, test2020)\n",
    "acc2024 = accuracy_report(clf2024, test2024)\n",
    "\n",
    "print(\"2020 accuracy:\", acc2020['overall'], \"kappa:\", acc2020['kappa'])\n",
    "print(\"2024 accuracy:\", acc2024['overall'], \"kappa:\", acc2024['kappa'])\n",
    "\n",
    "# --------------------------------------------\n",
    "# MAPS: classification + side-by-side compare\n",
    "# --------------------------------------------\n",
    "legend_dict = {TARGET_CLASSES[i]: PALETTE[i] for i in TARGET_CLASSES.keys()}\n",
    "\n",
    "def show_map(layer, title):\n",
    "    m = geemap.Map()\n",
    "    m.centerObject(AOI, 11)\n",
    "    m.addLayer(layer, {'min':0,'max':5,'palette':PALETTE}, title)\n",
    "    m.addLayer(ee.FeatureCollection([ee.Feature(AOI)]), {'color':'black'}, 'AOI')\n",
    "    try: m.add_text(title, position='topcenter', font_size=16)\n",
    "    except: pass\n",
    "    m.add_legend(title=\"LULC (SVM)\", legend_dict=legend_dict)\n",
    "    m.addLayerControl()\n",
    "    return m\n",
    "\n",
    "# Single maps (uncomment to view individually)\n",
    "# show_map(cls2020, \"Omo Forest Reserve — LULC (SVM) 2020\")\n",
    "# show_map(cls2024, \"Omo Forest Reserve — LULC (SVM) 2024\")\n",
    "\n",
    "# Side-by-side, linked maps\n",
    "def linked_maps_2020_2024():\n",
    "    lon, lat = AOI.centroid().coordinates().getInfo()\n",
    "    center = (lat, lon)\n",
    "    left  = geemap.Map(center=center, zoom=11)\n",
    "    right = geemap.Map(center=center, zoom=11)\n",
    "    left.addLayer(cls2020, {'min':0,'max':5,'palette':PALETTE}, 'LULC 2020 (SVM)')\n",
    "    right.addLayer(cls2024, {'min':0,'max':5,'palette':PALETTE}, 'LULC 2024 (SVM)')\n",
    "    outline = ee.FeatureCollection([ee.Feature(AOI)])\n",
    "    left.addLayer(outline, {'color':'black'}, 'AOI'); right.addLayer(outline, {'color':'black'}, 'AOI')\n",
    "    try: left.add_text(\"2020\", position=\"topcenter\"); right.add_text(\"2024\", position=\"topcenter\")\n",
    "    except: pass\n",
    "    left.add_legend(title=\"Classes\", legend_dict=legend_dict)\n",
    "    right.add_legend(title=\"Classes\", legend_dict=legend_dict)\n",
    "    geemap.link(left, right)\n",
    "    return widgets.HBox([left, right])\n",
    "\n",
    "linked_maps_2020_2024()"
   ]
  },
  {
   "cell_type": "markdown",
   "id": "e866508a",
   "metadata": {},
   "source": [
    "### Area by class (hectares) + side-by-side bars"
   ]
  },
  {
   "cell_type": "code",
   "execution_count": null,
   "id": "db16acca",
   "metadata": {},
   "outputs": [],
   "source": [
    "# --------------------------------------------\n",
    "# AREA BY CLASS (ha) with grouped reducer (fast)\n",
    "# --------------------------------------------\n",
    "def area_ha_by_class(class_img, region, scale=30, tilescale=2):\n",
    "    area = ee.Image.pixelArea().rename('area')\n",
    "    pair = area.addBands(class_img.rename('class')).clip(region)\n",
    "    red = pair.reduceRegion(\n",
    "        reducer=ee.Reducer.sum().group(groupField=1, groupName='class'),\n",
    "        geometry=region, scale=scale, bestEffort=True, maxPixels=2e13, tileScale=tilescale\n",
    "    )\n",
    "    groups = ee.Dictionary(red).get('groups')\n",
    "    groups = ee.List(groups).getInfo() if groups is not None else []\n",
    "    data = {int(g['class']): g['sum']/10000.0 for g in groups}   # m² -> ha\n",
    "    # ensure all classes present\n",
    "    vals = [data.get(i,0.0) for i in TARGET_CLASSES.keys()]\n",
    "    return pd.Series(vals, index=[TARGET_CLASSES[i] for i in TARGET_CLASSES.keys()], name='Hectares')\n",
    "\n",
    "ha2020 = area_ha_by_class(cls2020, AOI_SIMP, scale=30, tilescale=2)\n",
    "ha2024 = area_ha_by_class(cls2024, AOI_SIMP, scale=30, tilescale=2)\n",
    "\n",
    "display(ha2020.to_frame('2020').style.format('{:,.0f}'))\n",
    "display(ha2024.to_frame('2024').style.format('{:,.0f}'))\n",
    "\n",
    "# Side-by-side bar chart (shared y-axis)\n",
    "def side_by_side_bars(s2020, s2024, title=\"Omo Forest Reserve — LULC Area (ha)\"):\n",
    "    cats = list(s2020.index)\n",
    "    ymax = max(s2020.max(), s2024.max())*1.1\n",
    "    fig, axes = plt.subplots(1,2, figsize=(14,5), sharey=True)\n",
    "    axes[0].bar(cats, s2020.values); axes[0].set_title('2020'); axes[0].set_ylabel('Hectares')\n",
    "    axes[0].set_xticklabels(cats, rotation=30, ha='right'); axes[0].set_ylim(0,ymax)\n",
    "    axes[1].bar(cats, s2024.values); axes[1].set_title('2024')\n",
    "    axes[1].set_xticklabels(cats, rotation=30, ha='right'); axes[1].set_ylim(0,ymax)\n",
    "    fig.suptitle(title); plt.tight_layout(); plt.show()\n",
    "\n",
    "side_by_side_bars(ha2020, ha2024)"
   ]
  },
  {
   "cell_type": "markdown",
   "id": "3f5e1070",
   "metadata": {},
   "source": [
    "### Export"
   ]
  },
  {
   "cell_type": "code",
   "execution_count": null,
   "id": "e8d3bd23",
   "metadata": {},
   "outputs": [],
   "source": [
    "# --------------------------------------------\n",
    "# OPTIONAL EXPORTS (Google Drive)\n",
    "# --------------------------------------------\n",
    "\n",
    "# Export classified rasters (GeoTIFF, 10/30 m) – adjust scale as needed\n",
    "# geemap.ee_export_image(cls2020.clip(AOI), filename='Omo_LULC_SVM_2020.tif', scale=30, region=AOI, file_per_band=False)\n",
    "# geemap.ee_export_image(cls2024.clip(AOI), filename='Omo_LULC_SVM_2024.tif', scale=30, region=AOI, file_per_band=False)\n",
    "\n",
    "# Export area tables\n",
    "df_compare = pd.concat([ha2020.rename('2020'), ha2024.rename('2024')], axis=1)\n",
    "df_compare.to_csv('Omo_LULC_area_ha_2020_vs_2024.csv', float_format='%.0f')\n",
    "print(\"Saved: Omo_LULC_area_ha_2020_vs_2024.csv\")\n",
    "\n",
    "# Export accuracy reports to JSON/text\n",
    "import json, pathlib\n",
    "pathlib.Path('outputs').mkdir(exist_ok=True)\n",
    "with open('outputs/accuracy_2020.json','w') as f: json.dump(acc2020, f, indent=2)\n",
    "with open('outputs/accuracy_2024.json','w') as f: json.dump(acc2024, f, indent=2)\n",
    "print(\"Saved: outputs/accuracy_*.json\")\n"
   ]
  }
 ],
 "metadata": {
  "kernelspec": {
   "display_name": "gee_env",
   "language": "python",
   "name": "python3"
  },
  "language_info": {
   "codemirror_mode": {
    "name": "ipython",
    "version": 3
   },
   "file_extension": ".py",
   "mimetype": "text/x-python",
   "name": "python",
   "nbconvert_exporter": "python",
   "pygments_lexer": "ipython3",
   "version": "3.10.18"
  }
 },
 "nbformat": 4,
 "nbformat_minor": 5
}
